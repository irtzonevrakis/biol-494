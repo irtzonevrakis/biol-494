{
 "cells": [
  {
   "cell_type": "markdown",
   "metadata": {},
   "source": [
    "### Η εντολή ```while```\n",
    "Η εντολή ```while``` χρησιμοποιείται για επανάληψη. Με την εντολή ```while <ΛΟΓΙΚΗ ΣΥΝΘΗΚΗ>:``` δηλώνουμε ότι όλες οι εντολές \"κάτω\" από τη while θα τρέχουν μέχρι η ```<ΛΟΓΙΚΗ ΣΥΝΘΗΚΗ>``` να γίνει ```False```. "
   ]
  },
  {
   "cell_type": "code",
   "execution_count": 1,
   "metadata": {},
   "outputs": [
    {
     "name": "stdout",
     "output_type": "stream",
     "text": [
      "0\n",
      "1\n",
      "2\n",
      "3\n",
      "4\n",
      "5\n",
      "6\n",
      "7\n",
      "8\n",
      "9\n"
     ]
    }
   ],
   "source": [
    "# Τύπωσε όλους τους αριθμούς από το 0 μέχρι και το 9\n",
    "a=0\n",
    "while a<10:\n",
    "    print (a)\n",
    "    a += 1"
   ]
  },
  {
   "cell_type": "markdown",
   "metadata": {},
   "source": [
    "Τύπωσε όλους τους **μονούς** αριθμούς από το 1 μέχρι το 50"
   ]
  },
  {
   "cell_type": "code",
   "execution_count": 3,
   "metadata": {},
   "outputs": [
    {
     "name": "stdout",
     "output_type": "stream",
     "text": [
      "1\n",
      "3\n",
      "5\n",
      "7\n",
      "9\n",
      "11\n",
      "13\n",
      "15\n",
      "17\n",
      "19\n",
      "21\n",
      "23\n",
      "25\n",
      "27\n",
      "29\n",
      "31\n",
      "33\n",
      "35\n",
      "37\n",
      "39\n",
      "41\n",
      "43\n",
      "45\n",
      "47\n",
      "49\n"
     ]
    }
   ],
   "source": [
    "a=1\n",
    "\n",
    "while a<50:\n",
    "    if a%2 == 1:\n",
    "        print (a)\n",
    "    a+=1"
   ]
  },
  {
   "cell_type": "markdown",
   "metadata": {},
   "source": [
    "Τύπωσε τη \"προπαίδεια\" του 8"
   ]
  },
  {
   "cell_type": "code",
   "execution_count": 4,
   "metadata": {},
   "outputs": [
    {
     "name": "stdout",
     "output_type": "stream",
     "text": [
      "8\n",
      "16\n",
      "24\n",
      "32\n",
      "40\n",
      "48\n",
      "56\n",
      "64\n",
      "72\n",
      "80\n"
     ]
    }
   ],
   "source": [
    "a = 1\n",
    "while a<=10:\n",
    "    print (a*8)\n",
    "    a+=1\n"
   ]
  },
  {
   "cell_type": "markdown",
   "metadata": {},
   "source": [
    "Λίγο καλύτερα:"
   ]
  },
  {
   "cell_type": "code",
   "execution_count": 5,
   "metadata": {},
   "outputs": [
    {
     "name": "stdout",
     "output_type": "stream",
     "text": [
      "1 fores to 8 mas kanei 8\n",
      "2 fores to 8 mas kanei 16\n",
      "3 fores to 8 mas kanei 24\n",
      "4 fores to 8 mas kanei 32\n",
      "5 fores to 8 mas kanei 40\n",
      "6 fores to 8 mas kanei 48\n",
      "7 fores to 8 mas kanei 56\n",
      "8 fores to 8 mas kanei 64\n",
      "9 fores to 8 mas kanei 72\n",
      "10 fores to 8 mas kanei 80\n"
     ]
    }
   ],
   "source": [
    "a = 1\n",
    "while a<=10:\n",
    "    print (a, 'fores to 8 mas kanei', a*8)\n",
    "    a+=1"
   ]
  },
  {
   "cell_type": "markdown",
   "metadata": {},
   "source": [
    "Τύπωσε τη προπαίδεια όλων των αριθμών από το 1 μέχρι το 10"
   ]
  },
  {
   "cell_type": "code",
   "execution_count": 6,
   "metadata": {},
   "outputs": [
    {
     "name": "stdout",
     "output_type": "stream",
     "text": [
      "1 fores to  1  mas kanei 1\n",
      "1 fores to  2  mas kanei 2\n",
      "1 fores to  3  mas kanei 3\n",
      "1 fores to  4  mas kanei 4\n",
      "1 fores to  5  mas kanei 5\n",
      "1 fores to  6  mas kanei 6\n",
      "1 fores to  7  mas kanei 7\n",
      "1 fores to  8  mas kanei 8\n",
      "1 fores to  9  mas kanei 9\n",
      "1 fores to  10  mas kanei 10\n",
      "2 fores to  1  mas kanei 2\n",
      "2 fores to  2  mas kanei 4\n",
      "2 fores to  3  mas kanei 6\n",
      "2 fores to  4  mas kanei 8\n",
      "2 fores to  5  mas kanei 10\n",
      "2 fores to  6  mas kanei 12\n",
      "2 fores to  7  mas kanei 14\n",
      "2 fores to  8  mas kanei 16\n",
      "2 fores to  9  mas kanei 18\n",
      "2 fores to  10  mas kanei 20\n",
      "3 fores to  1  mas kanei 3\n",
      "3 fores to  2  mas kanei 6\n",
      "3 fores to  3  mas kanei 9\n",
      "3 fores to  4  mas kanei 12\n",
      "3 fores to  5  mas kanei 15\n",
      "3 fores to  6  mas kanei 18\n",
      "3 fores to  7  mas kanei 21\n",
      "3 fores to  8  mas kanei 24\n",
      "3 fores to  9  mas kanei 27\n",
      "3 fores to  10  mas kanei 30\n",
      "4 fores to  1  mas kanei 4\n",
      "4 fores to  2  mas kanei 8\n",
      "4 fores to  3  mas kanei 12\n",
      "4 fores to  4  mas kanei 16\n",
      "4 fores to  5  mas kanei 20\n",
      "4 fores to  6  mas kanei 24\n",
      "4 fores to  7  mas kanei 28\n",
      "4 fores to  8  mas kanei 32\n",
      "4 fores to  9  mas kanei 36\n",
      "4 fores to  10  mas kanei 40\n",
      "5 fores to  1  mas kanei 5\n",
      "5 fores to  2  mas kanei 10\n",
      "5 fores to  3  mas kanei 15\n",
      "5 fores to  4  mas kanei 20\n",
      "5 fores to  5  mas kanei 25\n",
      "5 fores to  6  mas kanei 30\n",
      "5 fores to  7  mas kanei 35\n",
      "5 fores to  8  mas kanei 40\n",
      "5 fores to  9  mas kanei 45\n",
      "5 fores to  10  mas kanei 50\n",
      "6 fores to  1  mas kanei 6\n",
      "6 fores to  2  mas kanei 12\n",
      "6 fores to  3  mas kanei 18\n",
      "6 fores to  4  mas kanei 24\n",
      "6 fores to  5  mas kanei 30\n",
      "6 fores to  6  mas kanei 36\n",
      "6 fores to  7  mas kanei 42\n",
      "6 fores to  8  mas kanei 48\n",
      "6 fores to  9  mas kanei 54\n",
      "6 fores to  10  mas kanei 60\n",
      "7 fores to  1  mas kanei 7\n",
      "7 fores to  2  mas kanei 14\n",
      "7 fores to  3  mas kanei 21\n",
      "7 fores to  4  mas kanei 28\n",
      "7 fores to  5  mas kanei 35\n",
      "7 fores to  6  mas kanei 42\n",
      "7 fores to  7  mas kanei 49\n",
      "7 fores to  8  mas kanei 56\n",
      "7 fores to  9  mas kanei 63\n",
      "7 fores to  10  mas kanei 70\n",
      "8 fores to  1  mas kanei 8\n",
      "8 fores to  2  mas kanei 16\n",
      "8 fores to  3  mas kanei 24\n",
      "8 fores to  4  mas kanei 32\n",
      "8 fores to  5  mas kanei 40\n",
      "8 fores to  6  mas kanei 48\n",
      "8 fores to  7  mas kanei 56\n",
      "8 fores to  8  mas kanei 64\n",
      "8 fores to  9  mas kanei 72\n",
      "8 fores to  10  mas kanei 80\n",
      "9 fores to  1  mas kanei 9\n",
      "9 fores to  2  mas kanei 18\n",
      "9 fores to  3  mas kanei 27\n",
      "9 fores to  4  mas kanei 36\n",
      "9 fores to  5  mas kanei 45\n",
      "9 fores to  6  mas kanei 54\n",
      "9 fores to  7  mas kanei 63\n",
      "9 fores to  8  mas kanei 72\n",
      "9 fores to  9  mas kanei 81\n",
      "9 fores to  10  mas kanei 90\n",
      "10 fores to  1  mas kanei 10\n",
      "10 fores to  2  mas kanei 20\n",
      "10 fores to  3  mas kanei 30\n",
      "10 fores to  4  mas kanei 40\n",
      "10 fores to  5  mas kanei 50\n",
      "10 fores to  6  mas kanei 60\n",
      "10 fores to  7  mas kanei 70\n",
      "10 fores to  8  mas kanei 80\n",
      "10 fores to  9  mas kanei 90\n",
      "10 fores to  10  mas kanei 100\n"
     ]
    }
   ],
   "source": [
    "a = 1\n",
    "while a<=10:\n",
    "    b=1\n",
    "    while b<=10:\n",
    "        print (a, 'fores to ', b, ' mas kanei', a*b)\n",
    "        b+=1\n",
    "    a+=1"
   ]
  },
  {
   "cell_type": "markdown",
   "metadata": {},
   "source": [
    "Βρες πόσα ψηφία έχει ένας αριθμός:"
   ]
  },
  {
   "cell_type": "code",
   "execution_count": 7,
   "metadata": {},
   "outputs": [
    {
     "data": {
      "text/plain": [
       "8"
      ]
     },
     "execution_count": 7,
     "metadata": {},
     "output_type": "execute_result"
    }
   ],
   "source": [
    "a=51234123\n",
    "# Πρώτος τρόπος (fast and better)\n",
    "len(str(a))"
   ]
  },
  {
   "cell_type": "code",
   "execution_count": 8,
   "metadata": {},
   "outputs": [
    {
     "name": "stdout",
     "output_type": "stream",
     "text": [
      "8\n"
     ]
    }
   ],
   "source": [
    "# Δεύτερος τρόπος\n",
    "# Παρατηρούμε ότι όταν δαιρούμε (ακέραια διαίρεση) έναν αριθμό με το 10, τότε του αφαιρούμε ένα ψηφίο από το τέλος:\n",
    "# 51234123 // 10 --> 5123412\n",
    "\n",
    "a=51234123\n",
    "c=0\n",
    "upoloipo = a\n",
    "while upoloipo != 0:\n",
    "    upoloipo = upoloipo // 10\n",
    "    c += 1\n",
    "print (c)"
   ]
  },
  {
   "cell_type": "markdown",
   "metadata": {},
   "source": [
    "Πόσες φορές υπάρχει το γράμμα a σε ένα string;"
   ]
  },
  {
   "cell_type": "code",
   "execution_count": 9,
   "metadata": {},
   "outputs": [
    {
     "data": {
      "text/plain": [
       "6"
      ]
     },
     "execution_count": 9,
     "metadata": {},
     "output_type": "execute_result"
    }
   ],
   "source": [
    "# Πρώτος τροπος (better / faster)\n",
    "a = 'zabarakatranemia'\n",
    "a.count('a')"
   ]
  },
  {
   "cell_type": "code",
   "execution_count": 10,
   "metadata": {},
   "outputs": [
    {
     "name": "stdout",
     "output_type": "stream",
     "text": [
      "6\n"
     ]
    }
   ],
   "source": [
    "# Δεύτερος τρόπος\n",
    "index = 0\n",
    "c = 0\n",
    "while index < len(a):\n",
    "    if a[index] == 'a':\n",
    "        c += 1\n",
    "    index += 1\n",
    "print (c)"
   ]
  },
  {
   "cell_type": "markdown",
   "metadata": {},
   "source": [
    "Αντιστροφή ενός string."
   ]
  },
  {
   "cell_type": "code",
   "execution_count": 94,
   "metadata": {},
   "outputs": [
    {
     "data": {
      "text/plain": [
       "'aimenartakarabaz'"
      ]
     },
     "execution_count": 94,
     "metadata": {},
     "output_type": "execute_result"
    }
   ],
   "source": [
    "# Πρώτος τρόπος (better / faster)\n",
    "a = 'zabarakatranemia'\n",
    "a[::-1]"
   ]
  },
  {
   "cell_type": "code",
   "execution_count": 95,
   "metadata": {},
   "outputs": [
    {
     "name": "stdout",
     "output_type": "stream",
     "text": [
      "aimenartakarabaz\n"
     ]
    }
   ],
   "source": [
    "# Δεύτερος τρόπος\n",
    "index = len(a)-1\n",
    "anapodo = ''\n",
    "while index >= 0:\n",
    "    anapodo = anapodo + a[index]\n",
    "    index -= 1\n",
    "print (anapodo)"
   ]
  },
  {
   "cell_type": "markdown",
   "metadata": {},
   "source": [
    "To άθροισμα όλων των αριθμών από το 1 μέχρι 20 \n"
   ]
  },
  {
   "cell_type": "code",
   "execution_count": 102,
   "metadata": {},
   "outputs": [
    {
     "name": "stdout",
     "output_type": "stream",
     "text": [
      "210\n"
     ]
    }
   ],
   "source": [
    "s = 0\n",
    "c = 0\n",
    "while c < 20:\n",
    "    c += 1\n",
    "    s += c\n",
    "print (s)"
   ]
  },
  {
   "cell_type": "code",
   "execution_count": 103,
   "metadata": {},
   "outputs": [
    {
     "name": "stdout",
     "output_type": "stream",
     "text": [
      "210\n"
     ]
    }
   ],
   "source": [
    "s = 0\n",
    "c = 1\n",
    "while c <= 20:\n",
    "    s += c\n",
    "    c += 1\n",
    "print (s)"
   ]
  },
  {
   "cell_type": "code",
   "execution_count": 98,
   "metadata": {},
   "outputs": [
    {
     "data": {
      "text/plain": [
       "210"
      ]
     },
     "execution_count": 98,
     "metadata": {},
     "output_type": "execute_result"
    }
   ],
   "source": [
    "sum(range(1,21))"
   ]
  },
  {
   "cell_type": "markdown",
   "metadata": {},
   "source": [
    "Όπως και με τη for μπορούμε να κάνουμε break και continue. Με τη break βγαίνουμε τελείως από τη while και με τη continue μεταβαίνουμε στην αρχή της while όπου γίνεται η εκτίμηση της λογικής συνθήκης. "
   ]
  },
  {
   "cell_type": "code",
   "execution_count": 105,
   "metadata": {},
   "outputs": [
    {
     "name": "stdout",
     "output_type": "stream",
     "text": [
      "1\n",
      "2\n",
      "3\n",
      "4\n",
      "6\n",
      "7\n",
      "8\n",
      "9\n",
      "10\n"
     ]
    }
   ],
   "source": [
    "a=0\n",
    "while a<10:\n",
    "    a += 1\n",
    "    if a== 5:\n",
    "        continue\n",
    "        \n",
    "    print (a)"
   ]
  },
  {
   "cell_type": "markdown",
   "metadata": {},
   "source": [
    "Προσέξτε ότι το 5 δεν υπάρχει."
   ]
  },
  {
   "cell_type": "code",
   "execution_count": 107,
   "metadata": {},
   "outputs": [
    {
     "name": "stdout",
     "output_type": "stream",
     "text": [
      "1\n",
      "2\n",
      "3\n",
      "4\n"
     ]
    }
   ],
   "source": [
    "a=0\n",
    "while a<10:\n",
    "    a += 1\n",
    "    if a== 5:\n",
    "        break\n",
    "        \n",
    "    print (a)"
   ]
  },
  {
   "cell_type": "markdown",
   "metadata": {},
   "source": [
    "Και εδώ όταν το a γίνει 5 τότε βγαίνει τελείως από τη while. "
   ]
  },
  {
   "cell_type": "markdown",
   "metadata": {},
   "source": [
    "Κάτι που χρησιμοποιείται σπάνια αλλά είναι ιδιαίτερα χρήσιμο είναι η else μετά τη while. Σε αυτή την else μπαίνει μόνο αν αν έχει συμβεί break μέσα στη while."
   ]
  },
  {
   "cell_type": "code",
   "execution_count": 108,
   "metadata": {},
   "outputs": [
    {
     "name": "stdout",
     "output_type": "stream",
     "text": [
      "1\n",
      "2\n",
      "3\n",
      "4\n"
     ]
    }
   ],
   "source": [
    "a=0\n",
    "while a<10:\n",
    "    a += 1\n",
    "    if a== 5:\n",
    "        break\n",
    "        \n",
    "    print (a)\n",
    "else:\n",
    "    print ('No break happened')"
   ]
  },
  {
   "cell_type": "code",
   "execution_count": 110,
   "metadata": {},
   "outputs": [
    {
     "name": "stdout",
     "output_type": "stream",
     "text": [
      "1\n",
      "2\n",
      "3\n",
      "4\n",
      "5\n",
      "6\n",
      "7\n",
      "8\n",
      "9\n",
      "10\n",
      "No break happened\n"
     ]
    }
   ],
   "source": [
    "a=0\n",
    "while a<10:\n",
    "    a += 1\n",
    "    #if a== 5:\n",
    "    #    break\n",
    "        \n",
    "    print (a)\n",
    "else:\n",
    "    print ('No break happened')"
   ]
  },
  {
   "cell_type": "markdown",
   "metadata": {},
   "source": [
    "Τη while τη χρησιμοποιούμε πολλές φορές όταν θέλουμε να κάνουμε μία επανάληψη αλλά δεν ξέρουμε πόσες φορές πρέπει να γίνει αυτή η επανάληψη. Για παράδειγμα: αφήνουμε να πέσει μία μπάλα από το 1 μέτρο. Κάθε φορά που αναπηδάει φτάνει στο 90% του ύψους της. Μετά από 5 αναπηδήσεις σε τι ύψος θα έχει φτάσει. Εδώ ξέρουμε πόσες επαναλήψεις θα κάνουμε οπότε θα χρησιμοποιήσουμε for:"
   ]
  },
  {
   "cell_type": "code",
   "execution_count": 112,
   "metadata": {},
   "outputs": [
    {
     "name": "stdout",
     "output_type": "stream",
     "text": [
      "0.5904900000000001\n"
     ]
    }
   ],
   "source": [
    "height=1\n",
    "for i in range(5):\n",
    "    height -= 0.1*height\n",
    "print (height)"
   ]
  },
  {
   "cell_type": "markdown",
   "metadata": {},
   "source": [
    "Ας δούμε τώρα ένα άλλο πρόβλημα: Πόσες αναπηδήσεις πρέπει να γίνουν ώστε το ύψος της μπάλας να γίνει μικρότερο από 0.5 μέτρα; Τώρα δεν ξέρουμε το πλήθος από επαναλήψεις (για την ακρίβεια αυτό είναι και το ζητούμενο), άρα \"βολεύει\" h while:"
   ]
  },
  {
   "cell_type": "code",
   "execution_count": 114,
   "metadata": {},
   "outputs": [
    {
     "name": "stdout",
     "output_type": "stream",
     "text": [
      "7\n"
     ]
    }
   ],
   "source": [
    "height = 1\n",
    "bounces = 0\n",
    "while height > 0.5:\n",
    "    bounces += 1\n",
    "    height -= 0.1*height\n",
    "print (bounces)"
   ]
  },
  {
   "cell_type": "markdown",
   "metadata": {},
   "source": [
    "Ένα άλλο παράδειγμα: Η παρακάτω συνάρτηση ελέγχει αν ένας αριθμός είναι πρώτος ή όχι:"
   ]
  },
  {
   "cell_type": "code",
   "execution_count": 129,
   "metadata": {},
   "outputs": [],
   "source": [
    "def is_prime(n):\n",
    "    for x in range(2, int(n**0.5)+1):\n",
    "        if n%x==0:\n",
    "            return False\n",
    "    \n",
    "    return True"
   ]
  },
  {
   "cell_type": "markdown",
   "metadata": {},
   "source": [
    "Αν αρχίζουμε και αθροίζουμε όλους τους πρώτους ξεκινώντας από το 1 σε ποιον πρώτο αριθμό αυτό το άθροισμα θα ξεπεράσει το 1.000.000 ;"
   ]
  },
  {
   "cell_type": "code",
   "execution_count": 131,
   "metadata": {},
   "outputs": [
    {
     "name": "stdout",
     "output_type": "stream",
     "text": [
      "3943\n"
     ]
    }
   ],
   "source": [
    "s = 0\n",
    "c = 1\n",
    "while s < 1_000_000:\n",
    "    if is_prime(c):\n",
    "        s += c\n",
    "    c += 1\n",
    "print (c-1)"
   ]
  },
  {
   "cell_type": "code",
   "execution_count": null,
   "metadata": {},
   "outputs": [],
   "source": []
  },
  {
   "cell_type": "markdown",
   "metadata": {},
   "source": [
    "### Tuples\n",
    "Τα tuples είναι δομές δεδομένων που μοιάζουν με τη λίστα. Η διαφορά τους είναι ότι στα tuples δεν μπορούμε να αλλάξουμε μία τιμή. Αντί για αγκύλες (```[1,2,3]```) στα tuples χρησημοποιούμε παρενθέσεις (```(1,2,3)```)."
   ]
  },
  {
   "cell_type": "code",
   "execution_count": 84,
   "metadata": {},
   "outputs": [
    {
     "data": {
      "text/plain": [
       "tuple"
      ]
     },
     "execution_count": 84,
     "metadata": {},
     "output_type": "execute_result"
    }
   ],
   "source": [
    "a = (1,2,3)\n",
    "type(a)"
   ]
  },
  {
   "cell_type": "code",
   "execution_count": 85,
   "metadata": {},
   "outputs": [
    {
     "ename": "TypeError",
     "evalue": "'tuple' object does not support item assignment",
     "output_type": "error",
     "traceback": [
      "\u001b[0;31m---------------------------------------------------------------------------\u001b[0m",
      "\u001b[0;31mTypeError\u001b[0m                                 Traceback (most recent call last)",
      "\u001b[0;32m<ipython-input-85-42aa7089a9ac>\u001b[0m in \u001b[0;36m<module>\u001b[0;34m\u001b[0m\n\u001b[0;32m----> 1\u001b[0;31m \u001b[0ma\u001b[0m\u001b[0;34m[\u001b[0m\u001b[0;36m2\u001b[0m\u001b[0;34m]\u001b[0m \u001b[0;34m=\u001b[0m \u001b[0;36m7\u001b[0m \u001b[0;31m#Πετάει μήνυμα λάθους. Δεν μπορούμε να το αλλάξουμε\u001b[0m\u001b[0;34m\u001b[0m\u001b[0;34m\u001b[0m\u001b[0m\n\u001b[0m",
      "\u001b[0;31mTypeError\u001b[0m: 'tuple' object does not support item assignment"
     ]
    }
   ],
   "source": [
    "a[2] = 7 #Πετάει μήνυμα λάθους. Δεν μπορούμε να το αλλάξουμε "
   ]
  },
  {
   "cell_type": "code",
   "execution_count": 86,
   "metadata": {},
   "outputs": [],
   "source": [
    "b = [1,2,3]\n",
    "b[2] = 7 # Αυτό είναι οκ, δεν πετάει μήνυμα λάθους"
   ]
  },
  {
   "cell_type": "markdown",
   "metadata": {},
   "source": [
    "Παρόλο που στα tuples δεν μπορώ να προσθέσω ή να αφαιρέσω ένα στοιχείο μπορώ να βάλω στοιχεία στις λίστες ή στα dictionaries που περιέχουν:"
   ]
  },
  {
   "cell_type": "code",
   "execution_count": 87,
   "metadata": {},
   "outputs": [
    {
     "name": "stdout",
     "output_type": "stream",
     "text": [
      "(1, [4, 5, 6], 10)\n"
     ]
    }
   ],
   "source": [
    "a = (1,[4,5],10)\n",
    "a[1].append(6)\n",
    "print (a)"
   ]
  },
  {
   "cell_type": "markdown",
   "metadata": {},
   "source": [
    "Επίσης μπορούμε να χρησιμοποιήσουμε τα tuples όπως ακριβώς τις λίστες για να κάνουμε επανάληψη, min, max, sort, ..."
   ]
  },
  {
   "cell_type": "code",
   "execution_count": 133,
   "metadata": {},
   "outputs": [
    {
     "name": "stdout",
     "output_type": "stream",
     "text": [
      "1\n",
      "2\n",
      "3\n"
     ]
    }
   ],
   "source": [
    "for x in (1,2,3):\n",
    "    print (x)"
   ]
  },
  {
   "cell_type": "code",
   "execution_count": 135,
   "metadata": {},
   "outputs": [
    {
     "data": {
      "text/plain": [
       "18"
      ]
     },
     "execution_count": 135,
     "metadata": {},
     "output_type": "execute_result"
    }
   ],
   "source": [
    "sum((5,6,7))"
   ]
  },
  {
   "cell_type": "markdown",
   "metadata": {},
   "source": [
    "### Συναρτήσεις που επιστρέφουν παραπάνω από 1 τιμή\n",
    "Στη python μία συνάρτηση μπορεί να επιστρέψει παραπάνω από μία τιμή:"
   ]
  },
  {
   "cell_type": "code",
   "execution_count": 88,
   "metadata": {},
   "outputs": [],
   "source": [
    "def f():\n",
    "    return 1,2"
   ]
  },
  {
   "cell_type": "code",
   "execution_count": 89,
   "metadata": {},
   "outputs": [
    {
     "name": "stdout",
     "output_type": "stream",
     "text": [
      "1\n",
      "2\n"
     ]
    }
   ],
   "source": [
    "a,b = f()\n",
    "print (a)\n",
    "print (b)"
   ]
  },
  {
   "cell_type": "markdown",
   "metadata": {},
   "source": [
    "Αν αποθηκεύσουμε σε μία μόνο μεταβλητή το αποτέλεσμα μίας συνάρτησης η οποία επιστρέφει παραπάνω από μία τιμές τότε αυτό που επιστρέφει είναι ένα tuple."
   ]
  },
  {
   "cell_type": "code",
   "execution_count": 90,
   "metadata": {},
   "outputs": [],
   "source": [
    "a = f()"
   ]
  },
  {
   "cell_type": "code",
   "execution_count": 91,
   "metadata": {},
   "outputs": [
    {
     "name": "stdout",
     "output_type": "stream",
     "text": [
      "(1, 2)\n"
     ]
    }
   ],
   "source": [
    "print (a)"
   ]
  },
  {
   "cell_type": "code",
   "execution_count": 92,
   "metadata": {},
   "outputs": [
    {
     "data": {
      "text/plain": [
       "tuple"
      ]
     },
     "execution_count": 92,
     "metadata": {},
     "output_type": "execute_result"
    }
   ],
   "source": [
    "type(a)"
   ]
  },
  {
   "cell_type": "code",
   "execution_count": null,
   "metadata": {},
   "outputs": [],
   "source": []
  },
  {
   "cell_type": "code",
   "execution_count": null,
   "metadata": {},
   "outputs": [],
   "source": []
  },
  {
   "cell_type": "markdown",
   "metadata": {},
   "source": [
    "### Dictionaries\n",
    "Μέχρι στιγμής έχουμε μάθει τους παρακάτω τύπους μεταβλητών:"
   ]
  },
  {
   "cell_type": "code",
   "execution_count": 13,
   "metadata": {},
   "outputs": [],
   "source": [
    "a=0 # ακέραιοι\n",
    "a=True # λογικοί\n",
    "a=\"324234\" # αλφαρηθμιτικά\n",
    "a=5.6 # δεκαδικοί\n",
    "a=[2,4,4] # λίστες\n",
    "a=None # None"
   ]
  },
  {
   "cell_type": "markdown",
   "metadata": {},
   "source": [
    "Τα dictionaries είναι ένα νέος τύπος μεταβλητής. Τα dictionaries έχουν δεδομένα με τη μορφή κλειδί --> τιμή. Κάθε κλειδί (key) είναι μοναδικό. Για παράδειγμα:"
   ]
  },
  {
   "cell_type": "code",
   "execution_count": 136,
   "metadata": {},
   "outputs": [],
   "source": [
    "a = {\"mitsos\": 50, \"anna\": 40}"
   ]
  },
  {
   "cell_type": "code",
   "execution_count": 15,
   "metadata": {},
   "outputs": [
    {
     "name": "stdout",
     "output_type": "stream",
     "text": [
      "{'mitsos': 50, 'anna': 40}\n"
     ]
    }
   ],
   "source": [
    "print(a)"
   ]
  },
  {
   "cell_type": "code",
   "execution_count": 16,
   "metadata": {},
   "outputs": [
    {
     "data": {
      "text/plain": [
       "50"
      ]
     },
     "execution_count": 16,
     "metadata": {},
     "output_type": "execute_result"
    }
   ],
   "source": [
    "a['mitsos']"
   ]
  },
  {
   "cell_type": "code",
   "execution_count": 17,
   "metadata": {},
   "outputs": [
    {
     "data": {
      "text/plain": [
       "40"
      ]
     },
     "execution_count": 17,
     "metadata": {},
     "output_type": "execute_result"
    }
   ],
   "source": [
    "a['anna']"
   ]
  },
  {
   "cell_type": "markdown",
   "metadata": {},
   "source": [
    "Η ```keys``` επιστρέφει μία λίστα με όλα τα κλειδιά του dictionary"
   ]
  },
  {
   "cell_type": "code",
   "execution_count": 18,
   "metadata": {},
   "outputs": [
    {
     "data": {
      "text/plain": [
       "dict_keys(['mitsos', 'anna'])"
      ]
     },
     "execution_count": 18,
     "metadata": {},
     "output_type": "execute_result"
    }
   ],
   "source": [
    "a.keys()"
   ]
  },
  {
   "cell_type": "markdown",
   "metadata": {},
   "source": [
    "Η ```values``` επιστρέφει μία λίστα με όλες τις τιμές του dictionary"
   ]
  },
  {
   "cell_type": "code",
   "execution_count": 19,
   "metadata": {},
   "outputs": [
    {
     "data": {
      "text/plain": [
       "dict_values([50, 40])"
      ]
     },
     "execution_count": 19,
     "metadata": {},
     "output_type": "execute_result"
    }
   ],
   "source": [
    "a.values()"
   ]
  },
  {
   "cell_type": "markdown",
   "metadata": {},
   "source": [
    "Μπορούμε να προσθέσουμε ένα νέο ζευγάρι κλειδί,τιμή με τον εξής τρόπο:"
   ]
  },
  {
   "cell_type": "code",
   "execution_count": 137,
   "metadata": {},
   "outputs": [],
   "source": [
    "a[\"kitsos\"] = 100"
   ]
  },
  {
   "cell_type": "code",
   "execution_count": 139,
   "metadata": {},
   "outputs": [
    {
     "name": "stdout",
     "output_type": "stream",
     "text": [
      "{'mitsos': 50, 'anna': 40, 'kitsos': 100}\n"
     ]
    }
   ],
   "source": [
    "print (a)"
   ]
  },
  {
   "cell_type": "markdown",
   "metadata": {},
   "source": [
    "Επίσης μπορούμε να αφαιρέσουμε ένα ζευγάρι κλειδί,τιμή με την εντολή del:"
   ]
  },
  {
   "cell_type": "code",
   "execution_count": 140,
   "metadata": {},
   "outputs": [
    {
     "name": "stdout",
     "output_type": "stream",
     "text": [
      "{'mitsos': 50, 'anna': 40}\n"
     ]
    }
   ],
   "source": [
    "del a['kitsos']\n",
    "print (a)"
   ]
  },
  {
   "cell_type": "markdown",
   "metadata": {},
   "source": [
    "Το κλειδί μπορεί να είναι αριθμός, string και boolean και tuple. Ενώ το value μπορεί να είναι οτιδίποτε."
   ]
  },
  {
   "cell_type": "code",
   "execution_count": 22,
   "metadata": {},
   "outputs": [],
   "source": [
    "a[123] = 0.1\n",
    "a[3.14] = \"hello\"\n",
    "a[False] = [1,2,3]\n",
    "a[(4,7)] = 4"
   ]
  },
  {
   "cell_type": "code",
   "execution_count": 23,
   "metadata": {},
   "outputs": [
    {
     "name": "stdout",
     "output_type": "stream",
     "text": [
      "{'mitsos': 50, 'anna': 40, 'kitsos': 100, 123: 0.1, 3.14: 'hello', False: [1, 2, 3], (4, 7): 4}\n"
     ]
    }
   ],
   "source": [
    "print (a)"
   ]
  },
  {
   "cell_type": "code",
   "execution_count": 24,
   "metadata": {},
   "outputs": [
    {
     "data": {
      "text/plain": [
       "[1, 2, 3]"
      ]
     },
     "execution_count": 24,
     "metadata": {},
     "output_type": "execute_result"
    }
   ],
   "source": [
    "# Προσοχή! False == 0 !\n",
    "a[0]"
   ]
  },
  {
   "cell_type": "markdown",
   "metadata": {},
   "source": [
    "Το κλειδί ΔΕΝ μπορεί να είναι λίστα:"
   ]
  },
  {
   "cell_type": "code",
   "execution_count": 141,
   "metadata": {},
   "outputs": [
    {
     "ename": "TypeError",
     "evalue": "unhashable type: 'list'",
     "output_type": "error",
     "traceback": [
      "\u001b[0;31m---------------------------------------------------------------------------\u001b[0m",
      "\u001b[0;31mTypeError\u001b[0m                                 Traceback (most recent call last)",
      "\u001b[0;32m<ipython-input-141-6cebb9942dfe>\u001b[0m in \u001b[0;36m<module>\u001b[0;34m\u001b[0m\n\u001b[0;32m----> 1\u001b[0;31m \u001b[0ma\u001b[0m\u001b[0;34m[\u001b[0m\u001b[0;34m[\u001b[0m\u001b[0;36m1\u001b[0m\u001b[0;34m,\u001b[0m\u001b[0;36m2\u001b[0m\u001b[0;34m,\u001b[0m\u001b[0;36m3\u001b[0m\u001b[0;34m]\u001b[0m\u001b[0;34m]\u001b[0m \u001b[0;34m=\u001b[0m \u001b[0;36m0\u001b[0m\u001b[0;34m\u001b[0m\u001b[0;34m\u001b[0m\u001b[0m\n\u001b[0m",
      "\u001b[0;31mTypeError\u001b[0m: unhashable type: 'list'"
     ]
    }
   ],
   "source": [
    "a[[1,2,3]] = 0"
   ]
  },
  {
   "cell_type": "markdown",
   "metadata": {},
   "source": [
    "Το κλειδί ΔΕΝ μπορεί να είναι ούτε dictionary:"
   ]
  },
  {
   "cell_type": "code",
   "execution_count": 142,
   "metadata": {},
   "outputs": [
    {
     "ename": "TypeError",
     "evalue": "unhashable type: 'dict'",
     "output_type": "error",
     "traceback": [
      "\u001b[0;31m---------------------------------------------------------------------------\u001b[0m",
      "\u001b[0;31mTypeError\u001b[0m                                 Traceback (most recent call last)",
      "\u001b[0;32m<ipython-input-142-b372ccb1b9be>\u001b[0m in \u001b[0;36m<module>\u001b[0;34m\u001b[0m\n\u001b[0;32m----> 1\u001b[0;31m \u001b[0ma\u001b[0m\u001b[0;34m[\u001b[0m\u001b[0;34m{\u001b[0m\u001b[0;34m}\u001b[0m\u001b[0;34m]\u001b[0m \u001b[0;34m=\u001b[0m \u001b[0;36m0\u001b[0m\u001b[0;34m\u001b[0m\u001b[0;34m\u001b[0m\u001b[0m\n\u001b[0m",
      "\u001b[0;31mTypeError\u001b[0m: unhashable type: 'dict'"
     ]
    }
   ],
   "source": [
    "a[{}] = 0"
   ]
  },
  {
   "cell_type": "markdown",
   "metadata": {},
   "source": [
    "Στη python μπορούμε να έχουμε dictionaries μέσα σε lists και lists μέσα σε dictionaries χωρίς κανένα περιορισμό"
   ]
  },
  {
   "cell_type": "code",
   "execution_count": 26,
   "metadata": {},
   "outputs": [
    {
     "name": "stdout",
     "output_type": "stream",
     "text": [
      "{'a': {2: 'a'}, 3: ['hello', False, []], 3.1: True}\n"
     ]
    }
   ],
   "source": [
    "d = {\"a\": {2:\"a\"}, 3: [\"hello\", False, []], 3.1: True}\n",
    "print (d)"
   ]
  },
  {
   "cell_type": "markdown",
   "metadata": {},
   "source": [
    "Μπορούμε να συνθέσουμε listes και dictionaries από άλλες listes και dictionaries:"
   ]
  },
  {
   "cell_type": "code",
   "execution_count": 27,
   "metadata": {},
   "outputs": [
    {
     "data": {
      "text/plain": [
       "[{'a': {2: 'a'}, 3: ['hello', False, []], 3.1: True},\n",
       " {'a': {2: 'a'}, 3: ['hello', False, []], 3.1: True},\n",
       " {2: 'a'}]"
      ]
     },
     "execution_count": 27,
     "metadata": {},
     "output_type": "execute_result"
    }
   ],
   "source": [
    "[d, d, d[\"a\"]]"
   ]
  },
  {
   "cell_type": "code",
   "execution_count": 28,
   "metadata": {},
   "outputs": [
    {
     "data": {
      "text/plain": [
       "{'a': {'a': {2: 'a'}, 3: ['hello', False, []], 3.1: True},\n",
       " 'b': ['hello', False, []]}"
      ]
     },
     "execution_count": 28,
     "metadata": {},
     "output_type": "execute_result"
    }
   ],
   "source": [
    "{\"a\": d, \"b\": d[3]}"
   ]
  },
  {
   "cell_type": "markdown",
   "metadata": {},
   "source": [
    "Υπάρχει και το άδειο dictionary"
   ]
  },
  {
   "cell_type": "code",
   "execution_count": 29,
   "metadata": {},
   "outputs": [],
   "source": [
    "a = {}"
   ]
  },
  {
   "cell_type": "markdown",
   "metadata": {},
   "source": [
    "Η ```len``` επιστρέφει το πλήθος των εγγραφών που έχει ένα dictionary:"
   ]
  },
  {
   "cell_type": "code",
   "execution_count": 30,
   "metadata": {},
   "outputs": [],
   "source": [
    "person = {\"name\": \"alex\", \"age\": 50, \"occupation\": \"master\"}"
   ]
  },
  {
   "cell_type": "code",
   "execution_count": 31,
   "metadata": {},
   "outputs": [
    {
     "data": {
      "text/plain": [
       "3"
      ]
     },
     "execution_count": 31,
     "metadata": {},
     "output_type": "execute_result"
    }
   ],
   "source": [
    "len(person)"
   ]
  },
  {
   "cell_type": "code",
   "execution_count": 32,
   "metadata": {},
   "outputs": [
    {
     "data": {
      "text/plain": [
       "0"
      ]
     },
     "execution_count": 32,
     "metadata": {},
     "output_type": "execute_result"
    }
   ],
   "source": [
    "len({})"
   ]
  },
  {
   "cell_type": "markdown",
   "metadata": {},
   "source": [
    "Μπορούμε να ελέγξουμε αν ένα κλειδί υπάρχει σε ένα dictionary"
   ]
  },
  {
   "cell_type": "code",
   "execution_count": 33,
   "metadata": {},
   "outputs": [
    {
     "data": {
      "text/plain": [
       "True"
      ]
     },
     "execution_count": 33,
     "metadata": {},
     "output_type": "execute_result"
    }
   ],
   "source": [
    "\"name\" in person"
   ]
  },
  {
   "cell_type": "code",
   "execution_count": 34,
   "metadata": {},
   "outputs": [
    {
     "data": {
      "text/plain": [
       "False"
      ]
     },
     "execution_count": 34,
     "metadata": {},
     "output_type": "execute_result"
    }
   ],
   "source": [
    "\"alex\" in person"
   ]
  },
  {
   "cell_type": "markdown",
   "metadata": {},
   "source": [
    "Μπορούμε να ελέγξουμε αν μία τιμή υπάρχει σε dictionary:"
   ]
  },
  {
   "cell_type": "code",
   "execution_count": 35,
   "metadata": {},
   "outputs": [
    {
     "data": {
      "text/plain": [
       "True"
      ]
     },
     "execution_count": 35,
     "metadata": {},
     "output_type": "execute_result"
    }
   ],
   "source": [
    "\"alex\" in person.values()"
   ]
  },
  {
   "cell_type": "markdown",
   "metadata": {},
   "source": [
    "Μπορούμε να κάνουμε επανάληψη σε όλα τα στοιχεία ενός dictionary:"
   ]
  },
  {
   "cell_type": "code",
   "execution_count": 36,
   "metadata": {},
   "outputs": [
    {
     "name": "stdout",
     "output_type": "stream",
     "text": [
      "name\n",
      "age\n",
      "occupation\n"
     ]
    }
   ],
   "source": [
    "for i in person:\n",
    "    print (i)"
   ]
  },
  {
   "cell_type": "code",
   "execution_count": 37,
   "metadata": {},
   "outputs": [
    {
     "name": "stdout",
     "output_type": "stream",
     "text": [
      "key: name  Value: alex\n",
      "key: age  Value: 50\n",
      "key: occupation  Value: master\n"
     ]
    }
   ],
   "source": [
    "for i in person:\n",
    "    print (\"key: {}  Value: {}\".format(i, person[i]))"
   ]
  },
  {
   "cell_type": "markdown",
   "metadata": {},
   "source": [
    "Μπορούμε να μετατρέψουμε μία λίστα (ή tuple) σε dictionary με τη συνάρτηση dict. Πρέπει όμως η λίστα να αποτελέιται από υπολίστες, όπου η κάθε υπολίστα έχει 2 στοιχεία. Σε αυτές τις υπολίστες το πρώτο στοιχείο θα γίνει το κλειδί και το δεύτερο η τιμή:"
   ]
  },
  {
   "cell_type": "code",
   "execution_count": 146,
   "metadata": {},
   "outputs": [
    {
     "data": {
      "text/plain": [
       "{'mitsos': 1, 'maria': 2, 'elenh': 4}"
      ]
     },
     "execution_count": 146,
     "metadata": {},
     "output_type": "execute_result"
    }
   ],
   "source": [
    "a = [(\"mitsos\", 1), ('maria', 2), ('elenh', 4) ]\n",
    "dict(a)"
   ]
  },
  {
   "cell_type": "markdown",
   "metadata": {},
   "source": [
    "Μπορεί να γίνει και το αντίθετο με τη items() "
   ]
  },
  {
   "cell_type": "code",
   "execution_count": 148,
   "metadata": {},
   "outputs": [
    {
     "name": "stdout",
     "output_type": "stream",
     "text": [
      "[('mitsos', 1), ('maria', 2), ('elenh', 4)]\n"
     ]
    }
   ],
   "source": [
    "a = {'mitsos': 1, 'maria': 2, 'elenh': 4}\n",
    "print(list(a.items()))"
   ]
  },
  {
   "cell_type": "markdown",
   "metadata": {},
   "source": [
    "### Προσπέλαση στοιχείων σε dictionary\n",
    "Μπορούμε να χρησιμοποιήσουμε πάνω από μια φορά το ```[][]``` ώστε να προσπελάσουμε κάποιο στοιχείο:"
   ]
  },
  {
   "cell_type": "code",
   "execution_count": 38,
   "metadata": {},
   "outputs": [],
   "source": [
    "person = {\"name\": \"alex\", \"age\": 50, \"occupation\": \"master\", \"exper\": [\"python\", \"karate\"]}"
   ]
  },
  {
   "cell_type": "code",
   "execution_count": 39,
   "metadata": {},
   "outputs": [
    {
     "name": "stdout",
     "output_type": "stream",
     "text": [
      "{'name': 'alex', 'age': 50, 'occupation': 'master', 'exper': ['python', 'karate']}\n"
     ]
    }
   ],
   "source": [
    "print (person)"
   ]
  },
  {
   "cell_type": "code",
   "execution_count": 40,
   "metadata": {},
   "outputs": [
    {
     "name": "stdout",
     "output_type": "stream",
     "text": [
      "python\n"
     ]
    }
   ],
   "source": [
    "print (person['exper'][0])"
   ]
  },
  {
   "cell_type": "code",
   "execution_count": 41,
   "metadata": {},
   "outputs": [
    {
     "name": "stdout",
     "output_type": "stream",
     "text": [
      "karate\n"
     ]
    }
   ],
   "source": [
    "print (person['exper'][1])"
   ]
  },
  {
   "cell_type": "code",
   "execution_count": 42,
   "metadata": {},
   "outputs": [
    {
     "name": "stdout",
     "output_type": "stream",
     "text": [
      "['python', 'karate']\n"
     ]
    }
   ],
   "source": [
    "print (person['exper'])"
   ]
  },
  {
   "cell_type": "code",
   "execution_count": 43,
   "metadata": {},
   "outputs": [],
   "source": [
    "a = [\"a\", \"b\", {\"name\": \"mitsos\", \"surnmae\": \"sdfsdfsdf\"}]"
   ]
  },
  {
   "cell_type": "code",
   "execution_count": 45,
   "metadata": {},
   "outputs": [
    {
     "data": {
      "text/plain": [
       "'a'"
      ]
     },
     "execution_count": 45,
     "metadata": {},
     "output_type": "execute_result"
    }
   ],
   "source": [
    "a[0]"
   ]
  },
  {
   "cell_type": "code",
   "execution_count": 47,
   "metadata": {},
   "outputs": [
    {
     "data": {
      "text/plain": [
       "'b'"
      ]
     },
     "execution_count": 47,
     "metadata": {},
     "output_type": "execute_result"
    }
   ],
   "source": [
    "a[1]"
   ]
  },
  {
   "cell_type": "code",
   "execution_count": 48,
   "metadata": {},
   "outputs": [
    {
     "data": {
      "text/plain": [
       "{'name': 'mitsos', 'surnmae': 'sdfsdfsdf'}"
      ]
     },
     "execution_count": 48,
     "metadata": {},
     "output_type": "execute_result"
    }
   ],
   "source": [
    "a[2]"
   ]
  },
  {
   "cell_type": "code",
   "execution_count": 49,
   "metadata": {},
   "outputs": [
    {
     "data": {
      "text/plain": [
       "'mitsos'"
      ]
     },
     "execution_count": 49,
     "metadata": {},
     "output_type": "execute_result"
    }
   ],
   "source": [
    "a[2]['name']"
   ]
  },
  {
   "cell_type": "markdown",
   "metadata": {},
   "source": [
    "Η συνάρτηση ```a.get(b,c)``` ελέγχει αν το b υπάρχει στο dictionary a. Αν υπάρχει επιστρέφει τη τιμή: ```a[b]```. Αν δεν υπάρχει επιστρέφει το c:"
   ]
  },
  {
   "cell_type": "code",
   "execution_count": 157,
   "metadata": {},
   "outputs": [],
   "source": [
    "a = {\"a\": 1, \"b\": 2, \"c\": 3}"
   ]
  },
  {
   "cell_type": "code",
   "execution_count": 158,
   "metadata": {},
   "outputs": [
    {
     "data": {
      "text/plain": [
       "50"
      ]
     },
     "execution_count": 158,
     "metadata": {},
     "output_type": "execute_result"
    }
   ],
   "source": [
    "a.get(\"mitsos\", 50)"
   ]
  },
  {
   "cell_type": "code",
   "execution_count": 159,
   "metadata": {},
   "outputs": [
    {
     "data": {
      "text/plain": [
       "1"
      ]
     },
     "execution_count": 159,
     "metadata": {},
     "output_type": "execute_result"
    }
   ],
   "source": [
    "a.get(\"a\", 50)"
   ]
  },
  {
   "cell_type": "markdown",
   "metadata": {},
   "source": [
    "### Iteration σε ένα dictionary\n",
    "Έστω ένα list και ένα dictionary:"
   ]
  },
  {
   "cell_type": "code",
   "execution_count": 50,
   "metadata": {},
   "outputs": [],
   "source": [
    "a = [1,2,3]\n",
    "b = {\"a\":1, \"b\":2, \"c\":3}"
   ]
  },
  {
   "cell_type": "markdown",
   "metadata": {},
   "source": [
    "Μπορούμε να κάνουμε iterate (επανάληψη) σε ένα list ως εξής:"
   ]
  },
  {
   "cell_type": "code",
   "execution_count": 51,
   "metadata": {},
   "outputs": [
    {
     "name": "stdout",
     "output_type": "stream",
     "text": [
      "1\n",
      "2\n",
      "3\n"
     ]
    }
   ],
   "source": [
    "for x in a:\n",
    "    print (x)"
   ]
  },
  {
   "cell_type": "markdown",
   "metadata": {},
   "source": [
    "Το ίδιο μπορούμε να κάνουμε και σε ένα dictionary:"
   ]
  },
  {
   "cell_type": "code",
   "execution_count": 52,
   "metadata": {},
   "outputs": [
    {
     "name": "stdout",
     "output_type": "stream",
     "text": [
      "a 1\n",
      "b 2\n",
      "c 3\n"
     ]
    }
   ],
   "source": [
    "for x in b:\n",
    "    print (x, b[x])"
   ]
  },
  {
   "cell_type": "markdown",
   "metadata": {},
   "source": [
    "Μπορούμε όμως να πάρουμε τα ζευγάρια κλειδιά-τιμές του dictionary ως μία λίστα χρησιμοποιώντας την ```items()```"
   ]
  },
  {
   "cell_type": "code",
   "execution_count": 53,
   "metadata": {},
   "outputs": [
    {
     "data": {
      "text/plain": [
       "[('a', 1), ('b', 2), ('c', 3)]"
      ]
     },
     "execution_count": 53,
     "metadata": {},
     "output_type": "execute_result"
    }
   ],
   "source": [
    "list(b.items())"
   ]
  },
  {
   "cell_type": "markdown",
   "metadata": {},
   "source": [
    "Άρα όπως έχουμε δει και από πριν μπορούμε να κάνουμε iterate και να αναθέσουμε σε δύο μεταβλητές το κλειδί-τιμή κάθε μέλους του dictionary:"
   ]
  },
  {
   "cell_type": "code",
   "execution_count": 54,
   "metadata": {},
   "outputs": [
    {
     "name": "stdout",
     "output_type": "stream",
     "text": [
      "a 1\n",
      "b 2\n",
      "c 3\n"
     ]
    }
   ],
   "source": [
    "for x,y in b.items():\n",
    "    print (x,y)"
   ]
  },
  {
   "cell_type": "markdown",
   "metadata": {},
   "source": [
    "### Παραδείγματα με dictionary"
   ]
  },
  {
   "cell_type": "markdown",
   "metadata": {},
   "source": [
    "Μετράμε πόσες φορές υπάρχει το κάθε στοιχείο μίας λίστας:"
   ]
  },
  {
   "cell_type": "code",
   "execution_count": 145,
   "metadata": {},
   "outputs": [
    {
     "name": "stdout",
     "output_type": "stream",
     "text": [
      "{3: 3, 2: 3, 4: 2, 5: 2, 6: 1, 7: 1, 9: 3, 1: 1, 8: 1}\n"
     ]
    }
   ],
   "source": [
    "a = [3,2,3,2,4,5,4,3,6,5,7,9,1,2,8,9,9]\n",
    "d = {}\n",
    "\n",
    "for x in a:\n",
    "    if not x in d:\n",
    "        d[x] = 0\n",
    "    d[x] += 1\n",
    "\n",
    "print (d)"
   ]
  },
  {
   "cell_type": "markdown",
   "metadata": {},
   "source": [
    "Βρες το value που έχει το μεγαλύτερο κey:"
   ]
  },
  {
   "cell_type": "code",
   "execution_count": 149,
   "metadata": {},
   "outputs": [
    {
     "name": "stdout",
     "output_type": "stream",
     "text": [
      "2\n"
     ]
    }
   ],
   "source": [
    "a = {1:3, 5:2, 3:1} # Το μεγαλύτερο key είναι το 5 και το value του 5 είναι 2\n",
    "\n",
    "max_key = max(a.keys())\n",
    "print(a[max_key])"
   ]
  },
  {
   "cell_type": "markdown",
   "metadata": {},
   "source": [
    "Βρες το key που έχει το μεγαλύτερο value"
   ]
  },
  {
   "cell_type": "code",
   "execution_count": 151,
   "metadata": {},
   "outputs": [
    {
     "data": {
      "text/plain": [
       "1"
      ]
     },
     "execution_count": 151,
     "metadata": {},
     "output_type": "execute_result"
    }
   ],
   "source": [
    "a = {1:3, 5:2, 3:1} # Το μεγαλύτερο value είναι το 3 που έχει το κey 1\n",
    "max( (v,k)  for k,v in a.items())[1]"
   ]
  },
  {
   "cell_type": "markdown",
   "metadata": {},
   "source": [
    "Πως βγήκε αυτό; Ας το \"σπάσουμε\" σε βήματα:"
   ]
  },
  {
   "cell_type": "code",
   "execution_count": 156,
   "metadata": {},
   "outputs": [
    {
     "name": "stdout",
     "output_type": "stream",
     "text": [
      "[(1, 3), (5, 2), (3, 1)]\n",
      "[(3, 1), (2, 5), (1, 3)]\n",
      "(3, 1)\n",
      "1\n"
     ]
    }
   ],
   "source": [
    "b = list(a.items()) # Μετατρέπουμε σε λίστα\n",
    "print (b)\n",
    "\n",
    "c = [(v,k) for k,v in b] # Αντιμεταθέτουμε τα ζευγαράκια κλεδί/τιμή\n",
    "print(c)\n",
    "\n",
    "d = max(c) # Παίρνουμε το tuple το οποίο έχει το μεγαλύτερο value\n",
    "print(d)\n",
    "\n",
    "e = d[1] # Παίρνουμε το δευτερο στοιχείο το οποίο είναι το κλειδί.\n",
    "print (e)"
   ]
  },
  {
   "cell_type": "markdown",
   "metadata": {},
   "source": [
    "### Dictionary Comprehension\n",
    "Σε προηγούμενη διάλεξη είχαμε πει τα list comprehensions"
   ]
  },
  {
   "cell_type": "code",
   "execution_count": 55,
   "metadata": {},
   "outputs": [
    {
     "data": {
      "text/plain": [
       "[3, 4]"
      ]
     },
     "execution_count": 55,
     "metadata": {},
     "output_type": "execute_result"
    }
   ],
   "source": [
    "# List comprehension\n",
    "[x for x in [1,2,3,4] if x>2]"
   ]
  },
  {
   "cell_type": "markdown",
   "metadata": {},
   "source": [
    "Είχαμε πει ότι το παραπάνω είναι ισοδύναμο με:"
   ]
  },
  {
   "cell_type": "code",
   "execution_count": 56,
   "metadata": {},
   "outputs": [
    {
     "name": "stdout",
     "output_type": "stream",
     "text": [
      "[3, 4]\n"
     ]
    }
   ],
   "source": [
    "a = []\n",
    "for x in [1,2,3,4]:\n",
    "    if x>2:\n",
    "        a.append(x)\n",
    "print (a)"
   ]
  },
  {
   "cell_type": "markdown",
   "metadata": {},
   "source": [
    "Το ίδιο μπορύμε να κάνουμε και με τα dictionaries:"
   ]
  },
  {
   "cell_type": "code",
   "execution_count": 58,
   "metadata": {},
   "outputs": [
    {
     "data": {
      "text/plain": [
       "{1: 10, 2: 20, 3: 30, 4: 40, 5: 50, 6: 60, 7: 70, 8: 80, 9: 90}"
      ]
     },
     "execution_count": 58,
     "metadata": {},
     "output_type": "execute_result"
    }
   ],
   "source": [
    "{ x:x*10 for x in range(1,10)}"
   ]
  },
  {
   "cell_type": "markdown",
   "metadata": {},
   "source": [
    "Αυτό είναι ισοδύναμο με:"
   ]
  },
  {
   "cell_type": "code",
   "execution_count": 59,
   "metadata": {},
   "outputs": [
    {
     "name": "stdout",
     "output_type": "stream",
     "text": [
      "{1: 10, 2: 20, 3: 30, 4: 40, 5: 50, 6: 60, 7: 70, 8: 80, 9: 90}\n"
     ]
    }
   ],
   "source": [
    "a={}\n",
    "for x in range(1,10):\n",
    "    a[x] = x*10\n",
    "print (a)"
   ]
  },
  {
   "cell_type": "markdown",
   "metadata": {},
   "source": [
    "Ένα άλλο παράδειγμα:"
   ]
  },
  {
   "cell_type": "code",
   "execution_count": 60,
   "metadata": {},
   "outputs": [
    {
     "data": {
      "text/plain": [
       "{1: 'hello 10',\n",
       " 2: 'hello 20',\n",
       " 3: 'hello 30',\n",
       " 4: 'hello 40',\n",
       " 5: 'hello 50',\n",
       " 6: 'hello 60',\n",
       " 7: 'hello 70',\n",
       " 8: 'hello 80',\n",
       " 9: 'hello 90'}"
      ]
     },
     "execution_count": 60,
     "metadata": {},
     "output_type": "execute_result"
    }
   ],
   "source": [
    "{ x:'hello {}'.format(x*10) for x in range(1,10)}"
   ]
  },
  {
   "cell_type": "markdown",
   "metadata": {},
   "source": [
    "### Σύνολα \n",
    "H ```set``` είναι μία δομή δεδομένων που μοντελοποιεί ένα σύνολο. Κάθε στοιχείο σε ένα set μπορεί να υπάρχει **μόνο μία φορά**:"
   ]
  },
  {
   "cell_type": "code",
   "execution_count": 61,
   "metadata": {},
   "outputs": [
    {
     "data": {
      "text/plain": [
       "{1, 2, 3}"
      ]
     },
     "execution_count": 61,
     "metadata": {},
     "output_type": "execute_result"
    }
   ],
   "source": [
    "set([1,2,3])"
   ]
  },
  {
   "cell_type": "code",
   "execution_count": 62,
   "metadata": {},
   "outputs": [
    {
     "data": {
      "text/plain": [
       "{1, 2, 3}"
      ]
     },
     "execution_count": 62,
     "metadata": {},
     "output_type": "execute_result"
    }
   ],
   "source": [
    "set([1,2,3,2])"
   ]
  },
  {
   "cell_type": "code",
   "execution_count": 63,
   "metadata": {},
   "outputs": [
    {
     "data": {
      "text/plain": [
       "{'a', 'b'}"
      ]
     },
     "execution_count": 63,
     "metadata": {},
     "output_type": "execute_result"
    }
   ],
   "source": [
    "a = set(['a','b', 'a'])\n",
    "a"
   ]
  },
  {
   "cell_type": "code",
   "execution_count": 64,
   "metadata": {},
   "outputs": [
    {
     "data": {
      "text/plain": [
       "True"
      ]
     },
     "execution_count": 64,
     "metadata": {},
     "output_type": "execute_result"
    }
   ],
   "source": [
    "'b' in a"
   ]
  },
  {
   "cell_type": "code",
   "execution_count": 65,
   "metadata": {},
   "outputs": [
    {
     "data": {
      "text/plain": [
       "{' ', '!', 'H', 'W', 'd', 'e', 'l', 'o', 'r'}"
      ]
     },
     "execution_count": 65,
     "metadata": {},
     "output_type": "execute_result"
    }
   ],
   "source": [
    "set(\"Hello World!\")"
   ]
  },
  {
   "cell_type": "markdown",
   "metadata": {},
   "source": [
    "Η πράξη ```&``` μεταξύ δύο set μας επιστρέφει την τομή των συνόλων:"
   ]
  },
  {
   "cell_type": "code",
   "execution_count": 66,
   "metadata": {},
   "outputs": [
    {
     "data": {
      "text/plain": [
       "{3, 4}"
      ]
     },
     "execution_count": 66,
     "metadata": {},
     "output_type": "execute_result"
    }
   ],
   "source": [
    "a = set([1,2,3,4])\n",
    "b = set([3,4,5,6])\n",
    "a & b"
   ]
  },
  {
   "cell_type": "markdown",
   "metadata": {},
   "source": [
    "Το ίδιο μπορεί να γίνει και με τη συνάρτηση intersection:"
   ]
  },
  {
   "cell_type": "code",
   "execution_count": 67,
   "metadata": {},
   "outputs": [
    {
     "data": {
      "text/plain": [
       "{3, 4}"
      ]
     },
     "execution_count": 67,
     "metadata": {},
     "output_type": "execute_result"
    }
   ],
   "source": [
    "a.intersection(b)"
   ]
  },
  {
   "cell_type": "markdown",
   "metadata": {},
   "source": [
    "Η πράξη ```|``` μεταξύ δύο set μας επιστρέφει την ένωση των συνόλων:"
   ]
  },
  {
   "cell_type": "code",
   "execution_count": 68,
   "metadata": {},
   "outputs": [
    {
     "data": {
      "text/plain": [
       "{1, 2, 3, 4, 5, 6}"
      ]
     },
     "execution_count": 68,
     "metadata": {},
     "output_type": "execute_result"
    }
   ],
   "source": [
    "a | b"
   ]
  },
  {
   "cell_type": "markdown",
   "metadata": {},
   "source": [
    "Το ίδιο μπορεί να γίνει με τη συνάρτηση union:"
   ]
  },
  {
   "cell_type": "code",
   "execution_count": 69,
   "metadata": {},
   "outputs": [
    {
     "data": {
      "text/plain": [
       "{1, 2, 3, 4, 5, 6}"
      ]
     },
     "execution_count": 69,
     "metadata": {},
     "output_type": "execute_result"
    }
   ],
   "source": [
    "a.union(b)"
   ]
  },
  {
   "cell_type": "markdown",
   "metadata": {},
   "source": [
    "Η πράξη ```-``` μεταξύ δύο σετ ```α``` και ```β``` μας επιστρέφει τα στοιχεία της ```α``` που δεν υπάρχουν στην ```β```:"
   ]
  },
  {
   "cell_type": "code",
   "execution_count": 70,
   "metadata": {},
   "outputs": [
    {
     "data": {
      "text/plain": [
       "{1, 2}"
      ]
     },
     "execution_count": 70,
     "metadata": {},
     "output_type": "execute_result"
    }
   ],
   "source": [
    "a - b"
   ]
  },
  {
   "cell_type": "code",
   "execution_count": 71,
   "metadata": {},
   "outputs": [
    {
     "data": {
      "text/plain": [
       "{5, 6}"
      ]
     },
     "execution_count": 71,
     "metadata": {},
     "output_type": "execute_result"
    }
   ],
   "source": [
    "b - a"
   ]
  },
  {
   "cell_type": "code",
   "execution_count": 75,
   "metadata": {},
   "outputs": [
    {
     "data": {
      "text/plain": [
       "set()"
      ]
     },
     "execution_count": 75,
     "metadata": {},
     "output_type": "execute_result"
    }
   ],
   "source": [
    "(a - b) & (b-a)"
   ]
  },
  {
   "cell_type": "markdown",
   "metadata": {},
   "source": [
    "Μπορούμε να προσθέσουμε ένα στοιχείο σε ένα set με τη συνάρτηση add:"
   ]
  },
  {
   "cell_type": "code",
   "execution_count": 81,
   "metadata": {},
   "outputs": [
    {
     "name": "stdout",
     "output_type": "stream",
     "text": [
      "{10, 1, 2, 3}\n"
     ]
    }
   ],
   "source": [
    "a = {1,2,3}\n",
    "a.add(10)\n",
    "print (a)"
   ]
  },
  {
   "cell_type": "markdown",
   "metadata": {},
   "source": [
    "Ένας άλλλος τρόπος να προσθέσουμε ένα στοιχείο είναι να χρησιμοποιήσουμε τον τελεστή | :"
   ]
  },
  {
   "cell_type": "code",
   "execution_count": 82,
   "metadata": {},
   "outputs": [
    {
     "name": "stdout",
     "output_type": "stream",
     "text": [
      "{10, 1, 2, 3}\n"
     ]
    }
   ],
   "source": [
    "a = {1,2,3}\n",
    "a = a | {10}\n",
    "print (a)"
   ]
  },
  {
   "cell_type": "markdown",
   "metadata": {},
   "source": [
    "Δεν μπορούμε να προσθέσουμε μία λίστα σε ένα set. Αυτό γίνεται γιατί μπορούμε να προσθέσουμε μόνο στοιχεία που ΔΕΝ αλλάζουν:"
   ]
  },
  {
   "cell_type": "code",
   "execution_count": 79,
   "metadata": {},
   "outputs": [
    {
     "ename": "TypeError",
     "evalue": "unhashable type: 'list'",
     "output_type": "error",
     "traceback": [
      "\u001b[0;31m---------------------------------------------------------------------------\u001b[0m",
      "\u001b[0;31mTypeError\u001b[0m                                 Traceback (most recent call last)",
      "\u001b[0;32m<ipython-input-79-1706898a2cfb>\u001b[0m in \u001b[0;36m<module>\u001b[0;34m\u001b[0m\n\u001b[0;32m----> 1\u001b[0;31m \u001b[0ma\u001b[0m\u001b[0;34m.\u001b[0m\u001b[0madd\u001b[0m\u001b[0;34m(\u001b[0m\u001b[0;34m[\u001b[0m\u001b[0;36m7\u001b[0m\u001b[0;34m,\u001b[0m\u001b[0;36m8\u001b[0m\u001b[0;34m,\u001b[0m\u001b[0;36m9\u001b[0m\u001b[0;34m]\u001b[0m\u001b[0;34m)\u001b[0m\u001b[0;34m\u001b[0m\u001b[0;34m\u001b[0m\u001b[0m\n\u001b[0m",
      "\u001b[0;31mTypeError\u001b[0m: unhashable type: 'list'"
     ]
    }
   ],
   "source": [
    "a.add([7,8,9])"
   ]
  },
  {
   "cell_type": "markdown",
   "metadata": {},
   "source": [
    "Τα sets είναι ένας επιπλέον τύπος δεδομένων:"
   ]
  },
  {
   "cell_type": "code",
   "execution_count": 73,
   "metadata": {},
   "outputs": [
    {
     "data": {
      "text/plain": [
       "set"
      ]
     },
     "execution_count": 73,
     "metadata": {},
     "output_type": "execute_result"
    }
   ],
   "source": [
    "type(set([1,2,3]))"
   ]
  },
  {
   "cell_type": "code",
   "execution_count": 74,
   "metadata": {},
   "outputs": [
    {
     "data": {
      "text/plain": [
       "True"
      ]
     },
     "execution_count": 74,
     "metadata": {},
     "output_type": "execute_result"
    }
   ],
   "source": [
    "a = set([1,2,3])\n",
    "type(a) is set"
   ]
  },
  {
   "cell_type": "markdown",
   "metadata": {},
   "source": [
    "### set comprehension\n",
    "Όπως ακριβώς με τις λίστες και τα dictionaries, μπορούμε να έχουμε comprehensions και με τα sets:"
   ]
  },
  {
   "cell_type": "code",
   "execution_count": 83,
   "metadata": {},
   "outputs": [
    {
     "data": {
      "text/plain": [
       "{0, 1, 2, 3}"
      ]
     },
     "execution_count": 83,
     "metadata": {},
     "output_type": "execute_result"
    }
   ],
   "source": [
    "{x%4 for x in range(10)}"
   ]
  },
  {
   "cell_type": "code",
   "execution_count": null,
   "metadata": {},
   "outputs": [],
   "source": []
  }
 ],
 "metadata": {
  "kernelspec": {
   "display_name": "Python 3",
   "language": "python",
   "name": "python3"
  },
  "language_info": {
   "codemirror_mode": {
    "name": "ipython",
    "version": 3
   },
   "file_extension": ".py",
   "mimetype": "text/x-python",
   "name": "python",
   "nbconvert_exporter": "python",
   "pygments_lexer": "ipython3",
   "version": "3.8.5"
  }
 },
 "nbformat": 4,
 "nbformat_minor": 4
}
