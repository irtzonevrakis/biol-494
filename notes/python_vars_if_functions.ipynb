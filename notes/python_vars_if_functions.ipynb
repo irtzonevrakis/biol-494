{
 "cells": [
  {
   "cell_type": "markdown",
   "metadata": {},
   "source": [
    "### Μεταβλητές\n",
    "Όταν γράφουμε ```a=3``` τότε αποθηκεύουμε στη μνήμη του υπολογιστή την τιμή 3. Μπορούμε όποτε θέλουμε μετά να αναφερθούμε σε αυτή την τιμή χρησμοποιώντας το όνομα της μεταβλητής"
   ]
  },
  {
   "cell_type": "code",
   "execution_count": 1,
   "metadata": {},
   "outputs": [],
   "source": [
    "a=3"
   ]
  },
  {
   "cell_type": "code",
   "execution_count": 2,
   "metadata": {},
   "outputs": [
    {
     "data": {
      "text/plain": [
       "3"
      ]
     },
     "execution_count": 2,
     "metadata": {},
     "output_type": "execute_result"
    }
   ],
   "source": [
    "a"
   ]
  },
  {
   "cell_type": "code",
   "execution_count": 3,
   "metadata": {},
   "outputs": [
    {
     "data": {
      "text/plain": [
       "6"
      ]
     },
     "execution_count": 3,
     "metadata": {},
     "output_type": "execute_result"
    }
   ],
   "source": [
    "a+a"
   ]
  },
  {
   "cell_type": "code",
   "execution_count": 4,
   "metadata": {},
   "outputs": [],
   "source": [
    "a = 'mitsos'"
   ]
  },
  {
   "cell_type": "code",
   "execution_count": 5,
   "metadata": {},
   "outputs": [
    {
     "data": {
      "text/plain": [
       "'mitsos'"
      ]
     },
     "execution_count": 5,
     "metadata": {},
     "output_type": "execute_result"
    }
   ],
   "source": [
    "a"
   ]
  },
  {
   "cell_type": "markdown",
   "metadata": {},
   "source": [
    "Μπορούμε να κάνουμε διάφορες πράξεις μεταξύ μεταβλητών:"
   ]
  },
  {
   "cell_type": "code",
   "execution_count": 6,
   "metadata": {},
   "outputs": [
    {
     "name": "stdout",
     "output_type": "stream",
     "text": [
      "7\n"
     ]
    }
   ],
   "source": [
    "a=3\n",
    "b=4\n",
    "print (a+b)"
   ]
  },
  {
   "cell_type": "markdown",
   "metadata": {},
   "source": [
    "Τα κενα δεν έχουν σημασία (αρκεί όλες οι γραμμές να ξεκινάνε από το ίδιο κενό). \n",
    "\n",
    "Όλα τα παρακάτω είναι ισοδύναμα:"
   ]
  },
  {
   "cell_type": "code",
   "execution_count": 8,
   "metadata": {},
   "outputs": [],
   "source": [
    "a=3\n",
    "a = 3\n",
    "a                             =                                               3"
   ]
  },
  {
   "cell_type": "markdown",
   "metadata": {},
   "source": [
    "Στα παρακάτω όμως υπάρχει λάθος!"
   ]
  },
  {
   "cell_type": "code",
   "execution_count": 9,
   "metadata": {},
   "outputs": [
    {
     "ename": "IndentationError",
     "evalue": "unexpected indent (<ipython-input-9-fc87d32c6889>, line 2)",
     "output_type": "error",
     "traceback": [
      "\u001b[0;36m  File \u001b[0;32m\"<ipython-input-9-fc87d32c6889>\"\u001b[0;36m, line \u001b[0;32m2\u001b[0m\n\u001b[0;31m    a=3 # Αυτό ξεκινάει με ένα κενό πιο μέσα!\u001b[0m\n\u001b[0m    ^\u001b[0m\n\u001b[0;31mIndentationError\u001b[0m\u001b[0;31m:\u001b[0m unexpected indent\n"
     ]
    }
   ],
   "source": [
    "a=3\n",
    " a=3 # Αυτό ξεκινάει με ένα κενό πιο μέσα!"
   ]
  },
  {
   "cell_type": "markdown",
   "metadata": {},
   "source": [
    "Με την print μπορούμε να τυπώνουμε τις τιμές πολλών μεταβλητών:"
   ]
  },
  {
   "cell_type": "code",
   "execution_count": 10,
   "metadata": {},
   "outputs": [],
   "source": [
    "a=\"the answer is\"\n",
    "b=7"
   ]
  },
  {
   "cell_type": "code",
   "execution_count": 11,
   "metadata": {},
   "outputs": [
    {
     "name": "stdout",
     "output_type": "stream",
     "text": [
      "the answer is 7\n"
     ]
    }
   ],
   "source": [
    "print (a,b)"
   ]
  },
  {
   "cell_type": "code",
   "execution_count": 12,
   "metadata": {},
   "outputs": [
    {
     "name": "stdout",
     "output_type": "stream",
     "text": [
      "this answer is 7\n"
     ]
    }
   ],
   "source": [
    "print (\"this answer is\", b)"
   ]
  },
  {
   "cell_type": "markdown",
   "metadata": {},
   "source": [
    "Αν μέσα σε ένα string βάλουμε το ```{}``` τότε μπορούμε να βάλουμε μία μεταβλητή σε αυτή τη θέση του string. Για να το κάνουμε αυτό χρησιμοποιούμε τη μέθοδο ```format```."
   ]
  },
  {
   "cell_type": "code",
   "execution_count": 13,
   "metadata": {},
   "outputs": [
    {
     "name": "stdout",
     "output_type": "stream",
     "text": [
      "answer is 7\n"
     ]
    }
   ],
   "source": [
    "c = \"answer is {}\".format(b)\n",
    "print (c)"
   ]
  },
  {
   "cell_type": "markdown",
   "metadata": {},
   "source": [
    "Μπορούμε να βάλουμε πάνω από ένα ```{}``` σε ένα string:"
   ]
  },
  {
   "cell_type": "code",
   "execution_count": 14,
   "metadata": {},
   "outputs": [
    {
     "name": "stdout",
     "output_type": "stream",
     "text": [
      "My name is Bond. James Bond.\n"
     ]
    }
   ],
   "source": [
    "a = 'James'\n",
    "b = 'Bond'\n",
    "print ('My name is {}. {} {}.'.format(b, a, b))"
   ]
  },
  {
   "cell_type": "markdown",
   "metadata": {},
   "source": [
    "**Προσοχή** στη διαφορά μεταξύ ```=``` και ```==```:"
   ]
  },
  {
   "cell_type": "code",
   "execution_count": 29,
   "metadata": {},
   "outputs": [
    {
     "data": {
      "text/plain": [
       "True"
      ]
     },
     "execution_count": 29,
     "metadata": {},
     "output_type": "execute_result"
    }
   ],
   "source": [
    "a = 3 # Η μεταβλητή a παίρνει την τιμή 3\n",
    "a == 3 # Ελέγχουμε αν η τιμή της μεταβλητής a είναι 3"
   ]
  },
  {
   "cell_type": "markdown",
   "metadata": {},
   "source": [
    "### Η πράξη: += "
   ]
  },
  {
   "cell_type": "markdown",
   "metadata": {},
   "source": [
    "Έστω ότι έχουμε μία μεταβλητή που έχει την τιμή 3:"
   ]
  },
  {
   "cell_type": "code",
   "execution_count": 15,
   "metadata": {},
   "outputs": [
    {
     "name": "stdout",
     "output_type": "stream",
     "text": [
      "3\n"
     ]
    }
   ],
   "source": [
    "a = 3\n",
    "print (a)"
   ]
  },
  {
   "cell_type": "markdown",
   "metadata": {},
   "source": [
    "Πως μπορούμε να της αυξήσουμε τη τιμή κατά 1;"
   ]
  },
  {
   "cell_type": "code",
   "execution_count": 16,
   "metadata": {},
   "outputs": [
    {
     "name": "stdout",
     "output_type": "stream",
     "text": [
      "4\n"
     ]
    }
   ],
   "source": [
    "a = a + 1\n",
    "print (a)"
   ]
  },
  {
   "cell_type": "markdown",
   "metadata": {},
   "source": [
    "Το ```a=a+1``` χρησημοποιείται πολύ συχνά (στην ουσία κάθε φορά που \"μετράμε\" κάτι). Οπότε μπορούμε να το γράψουμε και σαν: ```a += 1```. Παρομοίως μπορούμε να γράψουμε και ```a += 4```"
   ]
  },
  {
   "cell_type": "code",
   "execution_count": 17,
   "metadata": {},
   "outputs": [
    {
     "name": "stdout",
     "output_type": "stream",
     "text": [
      "8\n"
     ]
    }
   ],
   "source": [
    "a += 4 # a = a + 4\n",
    "print (a)"
   ]
  },
  {
   "cell_type": "markdown",
   "metadata": {},
   "source": [
    "Το ίδιο μπορεί να γίνει με όλες τις άλλες πράξεις. Π.χ. το ```a -= 1``` είναι ισοδύναμε με ```a = a - 1```. "
   ]
  },
  {
   "cell_type": "code",
   "execution_count": 18,
   "metadata": {},
   "outputs": [
    {
     "name": "stdout",
     "output_type": "stream",
     "text": [
      "7\n"
     ]
    }
   ],
   "source": [
    "a -= 1\n",
    "print (a)"
   ]
  },
  {
   "cell_type": "markdown",
   "metadata": {},
   "source": [
    "# Functions (συναρτήσεις)\n",
    "Οι [συναρτήσεις](https://en.wikipedia.org/wiki/Subroutine) είναι ένα τεράστιο κομμάτι της θεωρίας υπολογιστών. Μέσω των συναρτήσεων μπορούμε να \"σπάσουμε\" τον κώδικά μας σε μικρα λειτουργικά κομμάτια και να τον κάνουμε πιο οργανωμένο και πιο επαναχρησιμοποιήσουμε. Π.χ. μία συνάρτηση που υπολογίζει τον μέσο όρο μπορούμε να τη χρησιμοποιήσουμε σε πολλά σημεία του κώδικά μας. Στην python ορίζουμε μία συνάρτηση μέσω της ```def```:"
   ]
  },
  {
   "cell_type": "code",
   "execution_count": 42,
   "metadata": {},
   "outputs": [
    {
     "name": "stdout",
     "output_type": "stream",
     "text": [
      "hello\n"
     ]
    }
   ],
   "source": [
    "def f():\n",
    "    print ('hello')\n",
    "\n",
    "f()"
   ]
  },
  {
   "cell_type": "markdown",
   "metadata": {},
   "source": [
    "Μία συνάρτηση μπορεί να \"επιστρέφει\" μία τιμή σε αυτόν που την κάλεσε:"
   ]
  },
  {
   "cell_type": "code",
   "execution_count": 43,
   "metadata": {},
   "outputs": [
    {
     "name": "stdout",
     "output_type": "stream",
     "text": [
      "hello\n",
      "4\n"
     ]
    }
   ],
   "source": [
    "def f():\n",
    "    print ('hello')\n",
    "    return 4\n",
    "a=f()\n",
    "print (a)"
   ]
  },
  {
   "cell_type": "markdown",
   "metadata": {},
   "source": [
    "Μία συνάρτηση μπορεί να παίρνει καμία, μία ή παραπάνω παραμέτρους:"
   ]
  },
  {
   "cell_type": "code",
   "execution_count": 44,
   "metadata": {},
   "outputs": [
    {
     "name": "stdout",
     "output_type": "stream",
     "text": [
      "4\n"
     ]
    }
   ],
   "source": [
    "def f(t):\n",
    "    return t+1\n",
    "a=f(3)\n",
    "print (a)"
   ]
  },
  {
   "cell_type": "code",
   "execution_count": 45,
   "metadata": {},
   "outputs": [
    {
     "name": "stdout",
     "output_type": "stream",
     "text": [
      "0.1999999999999993\n"
     ]
    }
   ],
   "source": [
    "def f(q,w,e,r,t):\n",
    "    return q+w-e/r*t\n",
    "a=f(2,3,4,5,6)\n",
    "print (a)"
   ]
  },
  {
   "cell_type": "markdown",
   "metadata": {},
   "source": [
    "Επίσης μία συνάρτηση μπορεί να έχει παραμέτρους με προκαθορισμένες τιμές. Αν η συνάρτηση κληθεί χωρίς να δοθεί μία τιμή σε αυτές τις παραμέτρους τότε χρησιμοποιείται η προκαθορισμένη τιμή:"
   ]
  },
  {
   "cell_type": "code",
   "execution_count": 46,
   "metadata": {},
   "outputs": [],
   "source": [
    "def f(a,b=4):\n",
    "    return a+b"
   ]
  },
  {
   "cell_type": "code",
   "execution_count": 47,
   "metadata": {},
   "outputs": [
    {
     "data": {
      "text/plain": [
       "5"
      ]
     },
     "execution_count": 47,
     "metadata": {},
     "output_type": "execute_result"
    }
   ],
   "source": [
    "f(2,3)"
   ]
  },
  {
   "cell_type": "code",
   "execution_count": 48,
   "metadata": {},
   "outputs": [
    {
     "data": {
      "text/plain": [
       "6"
      ]
     },
     "execution_count": 48,
     "metadata": {},
     "output_type": "execute_result"
    }
   ],
   "source": [
    "f(2)"
   ]
  },
  {
   "cell_type": "markdown",
   "metadata": {},
   "source": [
    "Μία συνάρτηση μπορεί να έχει πολλές παραμέτρους με προκαθοριμένες τιμές:"
   ]
  },
  {
   "cell_type": "code",
   "execution_count": 49,
   "metadata": {},
   "outputs": [],
   "source": [
    "def f(a,b=2,c=4):\n",
    "    return a+b+C"
   ]
  },
  {
   "cell_type": "markdown",
   "metadata": {},
   "source": [
    "Πρέπει όμως όλες αυτές οι παράμετροι να είναι δηλωμένες μετά από τις παραμέτρους χωρίς προκαθορισμένες τιμές:"
   ]
  },
  {
   "cell_type": "code",
   "execution_count": 50,
   "metadata": {},
   "outputs": [
    {
     "ename": "SyntaxError",
     "evalue": "non-default argument follows default argument (<ipython-input-50-7943a91cece0>, line 1)",
     "output_type": "error",
     "traceback": [
      "\u001b[0;36m  File \u001b[0;32m\"<ipython-input-50-7943a91cece0>\"\u001b[0;36m, line \u001b[0;32m1\u001b[0m\n\u001b[0;31m    def f(a,b=2,c):\u001b[0m\n\u001b[0m          ^\u001b[0m\n\u001b[0;31mSyntaxError\u001b[0m\u001b[0;31m:\u001b[0m non-default argument follows default argument\n"
     ]
    }
   ],
   "source": [
    "def f(a,b=2,c):\n",
    "    return 42"
   ]
  },
  {
   "cell_type": "markdown",
   "metadata": {},
   "source": [
    "**Προσοχή!** όταν μεταβάλουμε ένα όρισμα της συνάρτησης, τότε αν αυτό το όρισμα είναι string, int, float ή bool (αυτοί οι τύποι λέγονται [primitive](https://en.wikipedia.org/wiki/Primitive_data_type)) τότε αυτή η μεταβολή δεν φαίνεται από εκεί που καλέσαμε τη συνάρτηση:"
   ]
  },
  {
   "cell_type": "code",
   "execution_count": 53,
   "metadata": {},
   "outputs": [
    {
     "name": "stdout",
     "output_type": "stream",
     "text": [
      "4\n"
     ]
    }
   ],
   "source": [
    "def f(a):\n",
    "    a = a + 1 # Αλλάζουμε την a\n",
    "\n",
    "a=4\n",
    "f(a)\n",
    "print (a) # H a δεν άλλαξε!"
   ]
  },
  {
   "cell_type": "markdown",
   "metadata": {},
   "source": [
    "Οι συναρτήσεις δεν μπορούν να \"δουν\" τα primitive data types (int, string, bool) που έχουν οριστεί έξω από αυτές:"
   ]
  },
  {
   "cell_type": "code",
   "execution_count": 54,
   "metadata": {},
   "outputs": [
    {
     "name": "stdout",
     "output_type": "stream",
     "text": [
      "4\n"
     ]
    }
   ],
   "source": [
    "a=4\n",
    "def f():\n",
    "    a=5\n",
    "f()\n",
    "print (a)"
   ]
  },
  {
   "cell_type": "markdown",
   "metadata": {},
   "source": [
    "Για να μπορέσει να \"δει\" μία συνάρτηση ένα primitive data type που έχει οριστεί έξω από αυτή, μπορούμε να χρησιμοποιήσουμε τη ```global```:\n",
    "\n",
    "**Προσοχή** Υπάρχει μια εξαιρετικά ενοχλητική ομάδα προγραμματιστών που θεωρεί ότι [ποτέ δεν πρέπει να χρησιμοποιούμε τη global](https://stackoverflow.com/questions/19158339/why-are-global-variables-evil). Αγνοήστε τους. "
   ]
  },
  {
   "cell_type": "code",
   "execution_count": 55,
   "metadata": {},
   "outputs": [
    {
     "name": "stdout",
     "output_type": "stream",
     "text": [
      "5\n"
     ]
    }
   ],
   "source": [
    "a=4\n",
    "def f():\n",
    "    global a\n",
    "    a=5\n",
    "f()\n",
    "print (a)"
   ]
  },
  {
   "cell_type": "markdown",
   "metadata": {},
   "source": [
    "**Προσοχή!** οτιδήποτε υπάρχει \"κάτω\" από τη ```return``` αγνοείται:"
   ]
  },
  {
   "cell_type": "code",
   "execution_count": 56,
   "metadata": {},
   "outputs": [
    {
     "name": "stdout",
     "output_type": "stream",
     "text": [
      "hello\n"
     ]
    },
    {
     "data": {
      "text/plain": [
       "5"
      ]
     },
     "execution_count": 56,
     "metadata": {},
     "output_type": "execute_result"
    }
   ],
   "source": [
    "def f():\n",
    "    print (\"hello\")\n",
    "    return 5\n",
    "    print (\"dsfgsdfg\")\n",
    "    \n",
    "f()"
   ]
  },
  {
   "cell_type": "markdown",
   "metadata": {},
   "source": [
    "Μία συνάρτηση που δεν επιστρέφει τίποτα επιστρέφει μία τιμή που είναι ```None```."
   ]
  },
  {
   "cell_type": "code",
   "execution_count": 57,
   "metadata": {},
   "outputs": [
    {
     "name": "stdout",
     "output_type": "stream",
     "text": [
      "hello\n",
      "None\n"
     ]
    }
   ],
   "source": [
    "def f():\n",
    "    print (\"hello\")\n",
    "    \n",
    "print (f())"
   ]
  },
  {
   "cell_type": "markdown",
   "metadata": {},
   "source": [
    "Η ```None``` είναι ένας νέος τύπος δεδομένου:"
   ]
  },
  {
   "cell_type": "code",
   "execution_count": 58,
   "metadata": {},
   "outputs": [
    {
     "data": {
      "text/plain": [
       "NoneType"
      ]
     },
     "execution_count": 58,
     "metadata": {},
     "output_type": "execute_result"
    }
   ],
   "source": [
    "type(None)"
   ]
  },
  {
   "cell_type": "markdown",
   "metadata": {},
   "source": [
    "Μία συνάρτηση μπορεί να περιέχει μία άλλη συνάρτηση:"
   ]
  },
  {
   "cell_type": "code",
   "execution_count": 59,
   "metadata": {},
   "outputs": [
    {
     "data": {
      "text/plain": [
       "9"
      ]
     },
     "execution_count": 59,
     "metadata": {},
     "output_type": "execute_result"
    }
   ],
   "source": [
    "def f(r):\n",
    "    def g():\n",
    "        return r + 5\n",
    "    return g() + 3\n",
    "\n",
    "f(1)"
   ]
  },
  {
   "cell_type": "markdown",
   "metadata": {},
   "source": [
    "Οι συναρτήσεις είναι και αυτές μεταβλητές τύπου ```function```:"
   ]
  },
  {
   "cell_type": "code",
   "execution_count": 60,
   "metadata": {},
   "outputs": [
    {
     "data": {
      "text/plain": [
       "function"
      ]
     },
     "execution_count": 60,
     "metadata": {},
     "output_type": "execute_result"
    }
   ],
   "source": [
    "type(f)"
   ]
  },
  {
   "cell_type": "markdown",
   "metadata": {},
   "source": [
    "Μπορούμε να ελέγξουμε αν μία μεταβλητή είναι συνάρτηση με τη ```callable```:"
   ]
  },
  {
   "cell_type": "code",
   "execution_count": 61,
   "metadata": {},
   "outputs": [
    {
     "data": {
      "text/plain": [
       "True"
      ]
     },
     "execution_count": 61,
     "metadata": {},
     "output_type": "execute_result"
    }
   ],
   "source": [
    "callable(f)"
   ]
  },
  {
   "cell_type": "markdown",
   "metadata": {},
   "source": [
    "### Η εντολή ```if```\n",
    "Η εντολή ```if``` (εάν) εκτελεί άλλες εντολές ανάλογα με το αν μια έκφραση είναι ```True``` ή ```False```."
   ]
  },
  {
   "cell_type": "code",
   "execution_count": 20,
   "metadata": {},
   "outputs": [
    {
     "name": "stdout",
     "output_type": "stream",
     "text": [
      "Hello\n"
     ]
    }
   ],
   "source": [
    "if True:\n",
    "    print (\"Hello\")"
   ]
  },
  {
   "cell_type": "code",
   "execution_count": 21,
   "metadata": {},
   "outputs": [],
   "source": [
    "if False:\n",
    "    print (\"Hello\") # Δεν εκτελείται"
   ]
  },
  {
   "cell_type": "code",
   "execution_count": 22,
   "metadata": {},
   "outputs": [
    {
     "name": "stdout",
     "output_type": "stream",
     "text": [
      "Hello\n"
     ]
    }
   ],
   "source": [
    "if 1<3:\n",
    "    print (\"Hello\")"
   ]
  },
  {
   "cell_type": "code",
   "execution_count": 23,
   "metadata": {},
   "outputs": [],
   "source": [
    "if 3<1 in [1,2]:\n",
    "    print (\"Hello\") # Δεν εκτελείται"
   ]
  },
  {
   "cell_type": "markdown",
   "metadata": {},
   "source": [
    "*** Προσοχή!*** όλα τα strings εκτός από το άδειο είναι ```True```:"
   ]
  },
  {
   "cell_type": "code",
   "execution_count": 24,
   "metadata": {},
   "outputs": [
    {
     "name": "stdout",
     "output_type": "stream",
     "text": [
      "hello\n"
     ]
    }
   ],
   "source": [
    "if 'mitsos':\n",
    "    print (\"hello\")"
   ]
  },
  {
   "cell_type": "code",
   "execution_count": 25,
   "metadata": {},
   "outputs": [],
   "source": [
    "if '':\n",
    "    print (\"hello\") # Δεν εκτελείται"
   ]
  },
  {
   "cell_type": "markdown",
   "metadata": {},
   "source": [
    "Όλοι αριθμοί εκτός από το 0 είναι ```True```"
   ]
  },
  {
   "cell_type": "code",
   "execution_count": 26,
   "metadata": {},
   "outputs": [
    {
     "name": "stdout",
     "output_type": "stream",
     "text": [
      "Hello\n"
     ]
    }
   ],
   "source": [
    "if 3453:\n",
    "    print (\"Hello\")"
   ]
  },
  {
   "cell_type": "code",
   "execution_count": 27,
   "metadata": {},
   "outputs": [],
   "source": [
    "if 0: # Αυτό είναι False\n",
    "    print (\"Hello\")"
   ]
  },
  {
   "cell_type": "code",
   "execution_count": 28,
   "metadata": {},
   "outputs": [
    {
     "name": "stdout",
     "output_type": "stream",
     "text": [
      "Hello\n"
     ]
    }
   ],
   "source": [
    "if 0.000000000001: # Αυτό είναι True!!\n",
    "    print (\"Hello\")"
   ]
  },
  {
   "cell_type": "markdown",
   "metadata": {},
   "source": [
    "Αυτό δεν επιτρέπεται:"
   ]
  },
  {
   "cell_type": "code",
   "execution_count": 30,
   "metadata": {},
   "outputs": [
    {
     "ename": "SyntaxError",
     "evalue": "invalid syntax (<ipython-input-30-9d66b7bd4d9a>, line 1)",
     "output_type": "error",
     "traceback": [
      "\u001b[0;36m  File \u001b[0;32m\"<ipython-input-30-9d66b7bd4d9a>\"\u001b[0;36m, line \u001b[0;32m1\u001b[0m\n\u001b[0;31m    if a = 3:\u001b[0m\n\u001b[0m         ^\u001b[0m\n\u001b[0;31mSyntaxError\u001b[0m\u001b[0;31m:\u001b[0m invalid syntax\n"
     ]
    }
   ],
   "source": [
    "if a = 3:\n",
    "    print (\"Hello\")"
   ]
  },
  {
   "cell_type": "markdown",
   "metadata": {},
   "source": [
    "Αυτό επιτρέπεται:"
   ]
  },
  {
   "cell_type": "code",
   "execution_count": 31,
   "metadata": {},
   "outputs": [
    {
     "name": "stdout",
     "output_type": "stream",
     "text": [
      "Hello\n"
     ]
    }
   ],
   "source": [
    "if a == 3:\n",
    "    print (\"Hello\")"
   ]
  },
  {
   "cell_type": "markdown",
   "metadata": {},
   "source": [
    "Μία if μπορεί να έχει \"μέσα της\" και άλλες if.."
   ]
  },
  {
   "cell_type": "code",
   "execution_count": 32,
   "metadata": {},
   "outputs": [
    {
     "name": "stdout",
     "output_type": "stream",
     "text": [
      "1\n",
      "hello\n",
      "Kostas\n",
      "2\n"
     ]
    }
   ],
   "source": [
    "print ('1')\n",
    "if True: \n",
    "    print ('hello')\n",
    "    if True:\n",
    "        print ('Kostas')\n",
    "\n",
    "print ('2')"
   ]
  },
  {
   "cell_type": "markdown",
   "metadata": {},
   "source": [
    "Αν για κάποιο λόγο δεν θέλουμε να κάνει τίποτα η if, τότε πρέπει να χρησιμοποιήσουμε τη ```pass```"
   ]
  },
  {
   "cell_type": "code",
   "execution_count": 33,
   "metadata": {},
   "outputs": [
    {
     "name": "stdout",
     "output_type": "stream",
     "text": [
      "1\n",
      "2\n"
     ]
    }
   ],
   "source": [
    "print ('1')\n",
    "if True:\n",
    "    pass\n",
    "print ('2')"
   ]
  },
  {
   "cell_type": "markdown",
   "metadata": {},
   "source": [
    "Μπορούμε να δηλώσουμε τι θέλουμε να γίνεται όταν η συνθήκη της if ΔΕΝ είναι αληθής με την else:"
   ]
  },
  {
   "cell_type": "code",
   "execution_count": 34,
   "metadata": {},
   "outputs": [
    {
     "name": "stdout",
     "output_type": "stream",
     "text": [
      "1\n",
      "hello\n",
      "2\n"
     ]
    }
   ],
   "source": [
    "print ('1')\n",
    "if True:\n",
    "    print (\"hello\") # <-- Μπαίνει εδώ\n",
    "else:\n",
    "    print ('world') # <-- Δεν μπαίνει εδώ\n",
    "print ('2')"
   ]
  },
  {
   "cell_type": "code",
   "execution_count": 35,
   "metadata": {},
   "outputs": [
    {
     "name": "stdout",
     "output_type": "stream",
     "text": [
      "1\n",
      "world\n",
      "2\n"
     ]
    }
   ],
   "source": [
    "print ('1')\n",
    "if False:\n",
    "    print (\"hello\") # <-- Δεν μπαίνει εδώ\n",
    "else:\n",
    "    print ('world') # <-- Μπαίνει εδώ\n",
    "print ('2')"
   ]
  },
  {
   "cell_type": "markdown",
   "metadata": {},
   "source": [
    "Επίσης μπορούμε να δηλώσουμε πολλές συνθήκες με την elif. Η python τις ελέγχει μία-μία και μόλις (και εάν) βρει τη πρώτη αληθή, τότε μπαίνει στο indentation. "
   ]
  },
  {
   "cell_type": "code",
   "execution_count": 36,
   "metadata": {},
   "outputs": [
    {
     "name": "stdout",
     "output_type": "stream",
     "text": [
      "hello\n",
      "2\n",
      "world\n"
     ]
    }
   ],
   "source": [
    "print ('hello')\n",
    "a=2\n",
    "if a==1:\n",
    "    print ('1')\n",
    "elif a==2:\n",
    "    print ('2')\n",
    "else:\n",
    "    print ('3')\n",
    "print ('world')"
   ]
  },
  {
   "cell_type": "markdown",
   "metadata": {},
   "source": [
    "Δεν είναι απαραίτητο να υπάρχει η else"
   ]
  },
  {
   "cell_type": "code",
   "execution_count": 37,
   "metadata": {},
   "outputs": [
    {
     "name": "stdout",
     "output_type": "stream",
     "text": [
      "hello\n",
      "world\n"
     ]
    }
   ],
   "source": [
    "print ('hello')\n",
    "a=3\n",
    "if a==1:\n",
    "    print ('1')\n",
    "elif a==2:\n",
    "    print ('2')\n",
    "print ('world')"
   ]
  },
  {
   "cell_type": "markdown",
   "metadata": {},
   "source": [
    "Στην ```if``` μπορούμε να δηλώσουμε παραπάνω από μία συνθήκες ή να να χρησιμοποιήσουμε την ```else``` για να δηλώσουμε τι να γίνει αν όλες οι συνθήκες στις ```if``` και ```elif``` είναι ```False```"
   ]
  },
  {
   "cell_type": "code",
   "execution_count": 38,
   "metadata": {},
   "outputs": [
    {
     "name": "stdout",
     "output_type": "stream",
     "text": [
      "ενήλικος\n"
     ]
    }
   ],
   "source": [
    "age = 23\n",
    "if age<18:\n",
    "    status = 'ανήλικος'\n",
    "else:\n",
    "    status = 'ενήλικος'\n",
    "\n",
    "print (status)"
   ]
  },
  {
   "cell_type": "markdown",
   "metadata": {},
   "source": [
    "Προσέχτε ότι το παραπάνω δεν ελέγχει τη περίπτωση λάθους:"
   ]
  },
  {
   "cell_type": "code",
   "execution_count": 39,
   "metadata": {},
   "outputs": [
    {
     "name": "stdout",
     "output_type": "stream",
     "text": [
      "ανήλικος\n"
     ]
    }
   ],
   "source": [
    "age = -4\n",
    "\n",
    "if age<18:\n",
    "    status = 'ανήλικος'\n",
    "else:\n",
    "    status = 'ενήλικος'\n",
    "\n",
    "print (status)"
   ]
  },
  {
   "cell_type": "markdown",
   "metadata": {},
   "source": [
    "Μπορούμε να βάλουμε πολλές ```elif``` ώστε να ελέγχουμε για πολλά ενδεχόμενα: "
   ]
  },
  {
   "cell_type": "code",
   "execution_count": 40,
   "metadata": {},
   "outputs": [
    {
     "name": "stdout",
     "output_type": "stream",
     "text": [
      "ενήλικος\n"
     ]
    }
   ],
   "source": [
    "age = 50\n",
    "if age <0:\n",
    "    status = \"λάθος. Αρνητική τιμή\"\n",
    "elif age < 18:\n",
    "    status = \"ανήλικος\"\n",
    "elif age < 120:\n",
    "    status = \"ενήλικος\"\n",
    "else:\n",
    "    status = \"λάθος. Υπερβολικά μεγάλη τιμή\"\n",
    "print (status)"
   ]
  },
  {
   "cell_type": "markdown",
   "metadata": {},
   "source": [
    "Δοκιμάστε το παραπάνω για διάφορες τιμές του ```age```.\n",
    "\n",
    "Επίσης, δεν είναι απαραίτητο να χρησιμοποιήσουμε την ```else```:"
   ]
  },
  {
   "cell_type": "code",
   "execution_count": 41,
   "metadata": {},
   "outputs": [
    {
     "name": "stdout",
     "output_type": "stream",
     "text": [
      "λάθος. Υπερβολικά μεγάλη τιμή\n"
     ]
    }
   ],
   "source": [
    "age = 150\n",
    "if age <0:\n",
    "    status = \"λάθος. Αρνητική τιμή\"\n",
    "elif age < 18:\n",
    "    status = \"ανήλικος\"\n",
    "elif age < 120:\n",
    "    status = \"ενήλικος\"\n",
    "elif age >= 120:\n",
    "    status = \"λάθος. Υπερβολικά μεγάλη τιμή\"\n",
    "print (status)"
   ]
  },
  {
   "cell_type": "code",
   "execution_count": null,
   "metadata": {},
   "outputs": [],
   "source": []
  }
 ],
 "metadata": {
  "kernelspec": {
   "display_name": "Python 3",
   "language": "python",
   "name": "python3"
  },
  "language_info": {
   "codemirror_mode": {
    "name": "ipython",
    "version": 3
   },
   "file_extension": ".py",
   "mimetype": "text/x-python",
   "name": "python",
   "nbconvert_exporter": "python",
   "pygments_lexer": "ipython3",
   "version": "3.8.5"
  }
 },
 "nbformat": 4,
 "nbformat_minor": 4
}
